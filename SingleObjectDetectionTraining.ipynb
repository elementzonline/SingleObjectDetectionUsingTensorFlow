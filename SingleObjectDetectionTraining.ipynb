{
  "nbformat": 4,
  "nbformat_minor": 0,
  "metadata": {
    "colab": {
      "name": "SingleObjectDetectionTraining.ipynb",
      "version": "0.3.2",
      "provenance": [],
      "collapsed_sections": []
    },
    "kernelspec": {
      "name": "python3",
      "display_name": "Python 3"
    }
  },
  "cells": [
    {
      "cell_type": "markdown",
      "metadata": {
        "id": "3s3emwaweuFG",
        "colab_type": "text"
      },
      "source": [
        "**Download IODv4 Toolkit**"
      ]
    },
    {
      "cell_type": "code",
      "metadata": {
        "id": "ZL07YNpAfnnH",
        "colab_type": "code",
        "colab": {
          "base_uri": "https://localhost:8080/",
          "height": 359
        },
        "outputId": "a43d7121-193b-4d43-8967-a66fc1ec710e"
      },
      "source": [
        "!git clone https://github.com/EscVM/OIDv4_ToolKit.git\n",
        "!pip install -r OIDv4_ToolKit/requirements.txt"
      ],
      "execution_count": 3,
      "outputs": [
        {
          "output_type": "stream",
          "text": [
            "fatal: destination path 'OIDv4_ToolKit' already exists and is not an empty directory.\n",
            "Requirement already satisfied: pandas in /usr/local/lib/python3.6/dist-packages (from -r OIDv4_ToolKit/requirements.txt (line 1)) (0.24.2)\n",
            "Requirement already satisfied: numpy in /usr/local/lib/python3.6/dist-packages (from -r OIDv4_ToolKit/requirements.txt (line 2)) (1.16.3)\n",
            "Requirement already satisfied: awscli in /usr/local/lib/python3.6/dist-packages (from -r OIDv4_ToolKit/requirements.txt (line 3)) (1.16.165)\n",
            "Requirement already satisfied: urllib3 in /usr/local/lib/python3.6/dist-packages (from -r OIDv4_ToolKit/requirements.txt (line 5)) (1.24.3)\n",
            "Requirement already satisfied: tqdm in /usr/local/lib/python3.6/dist-packages (from -r OIDv4_ToolKit/requirements.txt (line 7)) (4.28.1)\n",
            "Requirement already satisfied: opencv-python in /usr/local/lib/python3.6/dist-packages (from -r OIDv4_ToolKit/requirements.txt (line 9)) (3.4.5.20)\n",
            "Requirement already satisfied: pytz>=2011k in /usr/local/lib/python3.6/dist-packages (from pandas->-r OIDv4_ToolKit/requirements.txt (line 1)) (2018.9)\n",
            "Requirement already satisfied: python-dateutil>=2.5.0 in /usr/local/lib/python3.6/dist-packages (from pandas->-r OIDv4_ToolKit/requirements.txt (line 1)) (2.5.3)\n",
            "Requirement already satisfied: rsa<=3.5.0,>=3.1.2 in /usr/local/lib/python3.6/dist-packages (from awscli->-r OIDv4_ToolKit/requirements.txt (line 3)) (3.4.2)\n",
            "Requirement already satisfied: docutils>=0.10 in /usr/local/lib/python3.6/dist-packages (from awscli->-r OIDv4_ToolKit/requirements.txt (line 3)) (0.14)\n",
            "Requirement already satisfied: s3transfer<0.3.0,>=0.2.0 in /usr/local/lib/python3.6/dist-packages (from awscli->-r OIDv4_ToolKit/requirements.txt (line 3)) (0.2.0)\n",
            "Requirement already satisfied: botocore==1.12.155 in /usr/local/lib/python3.6/dist-packages (from awscli->-r OIDv4_ToolKit/requirements.txt (line 3)) (1.12.155)\n",
            "Requirement already satisfied: colorama<=0.3.9,>=0.2.5 in /usr/local/lib/python3.6/dist-packages (from awscli->-r OIDv4_ToolKit/requirements.txt (line 3)) (0.3.9)\n",
            "Requirement already satisfied: PyYAML<=3.13,>=3.10 in /usr/local/lib/python3.6/dist-packages (from awscli->-r OIDv4_ToolKit/requirements.txt (line 3)) (3.13)\n",
            "Requirement already satisfied: six>=1.5 in /usr/local/lib/python3.6/dist-packages (from python-dateutil>=2.5.0->pandas->-r OIDv4_ToolKit/requirements.txt (line 1)) (1.12.0)\n",
            "Requirement already satisfied: pyasn1>=0.1.3 in /usr/local/lib/python3.6/dist-packages (from rsa<=3.5.0,>=3.1.2->awscli->-r OIDv4_ToolKit/requirements.txt (line 3)) (0.4.5)\n",
            "Requirement already satisfied: jmespath<1.0.0,>=0.7.1 in /usr/local/lib/python3.6/dist-packages (from botocore==1.12.155->awscli->-r OIDv4_ToolKit/requirements.txt (line 3)) (0.9.4)\n"
          ],
          "name": "stdout"
        }
      ]
    },
    {
      "cell_type": "markdown",
      "metadata": {
        "id": "wSB-_2n9e8Om",
        "colab_type": "text"
      },
      "source": [
        "**Download dataset from OpenImages using OID Toolkit**"
      ]
    },
    {
      "cell_type": "code",
      "metadata": {
        "id": "dxM3FAaKgHy_",
        "colab_type": "code",
        "colab": {
          "base_uri": "https://localhost:8080/",
          "height": 510
        },
        "outputId": "82e553a1-7808-40f1-a81c-9e2d37edce50"
      },
      "source": [
        "!python3 OIDv4_ToolKit/main.py downloader --classes Orange --type_csv all"
      ],
      "execution_count": 0,
      "outputs": [
        {
          "output_type": "stream",
          "text": [
            "\u001b[92m\n",
            "\t\t   ___   _____  ______            _    _    \n",
            "\t\t .'   `.|_   _||_   _ `.         | |  | |   \n",
            "\t\t/  .-.  \\ | |    | | `. \\ _   __ | |__| |_  \n",
            "\t\t| |   | | | |    | |  | |[ \\ [  ]|____   _| \n",
            "\t\t\\  `-'  /_| |_  _| |_.' / \\ \\/ /     _| |_  \n",
            "\t\t `.___.'|_____||______.'   \\__/     |_____|\n",
            "\t\u001b[0m\n",
            "\u001b[92m\n",
            "             _____                    _                 _             \n",
            "            (____ \\                  | |               | |            \n",
            "             _   \\ \\ ___  _ _ _ ____ | | ___   ____  _ | | ____  ____ \n",
            "            | |   | / _ \\| | | |  _ \\| |/ _ \\ / _  |/ || |/ _  )/ ___)\n",
            "            | |__/ / |_| | | | | | | | | |_| ( ( | ( (_| ( (/ /| |    \n",
            "            |_____/ \\___/ \\____|_| |_|_|\\___/ \\_||_|\\____|\\____)_|    \n",
            "                                                          \n",
            "        \u001b[0m\n",
            "    [INFO] | Downloading Orange.\u001b[0m\n",
            "\n",
            "\u001b[95mOrange\u001b[0m\n",
            "    [INFO] | Downloading all images.\u001b[0m\n",
            "    [INFO] | [INFO] Found 900 online images for train.\u001b[0m\n",
            "    [INFO] | All images already downloaded.\u001b[0m\n",
            "    [INFO] | Creating labels for Orange of train.\u001b[0m\n",
            "    [INFO] | Labels creation completed.\u001b[0m\n",
            "\u001b[91m   [ERROR] | Missing the validation-annotations-bbox.csv file.\u001b[0m\n",
            "\u001b[94m[DOWNLOAD] | Do you want to download the missing file? [Y/n] \u001b[0m"
          ],
          "name": "stdout"
        }
      ]
    },
    {
      "cell_type": "markdown",
      "metadata": {
        "id": "I_u296c2fExO",
        "colab_type": "text"
      },
      "source": [
        "**Install required packages for converting OIDv4 labels to a single CSV file**"
      ]
    },
    {
      "cell_type": "markdown",
      "metadata": {
        "id": "j2plWWsTfVV5",
        "colab_type": "text"
      },
      "source": [
        "**Install required packages for creating TFRecord file**"
      ]
    },
    {
      "cell_type": "markdown",
      "metadata": {
        "id": "yNXN3d_NfcWt",
        "colab_type": "text"
      },
      "source": [
        "**Clone the to begin the training process**\n"
      ]
    }
  ]
}